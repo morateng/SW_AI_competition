{
 "cells": [
  {
   "cell_type": "code",
   "execution_count": 1,
   "id": "707a369e",
   "metadata": {},
   "outputs": [],
   "source": [
    "import numpy as np\n",
    "import pandas as pd\n",
    "import matplotlib.pyplot as plt\n",
    "import seaborn as sns\n",
    "\n",
    "%matplotlib inline\n",
    "\n",
    "import warnings\n",
    "warnings.filterwarnings('ignore')"
   ]
  },
  {
   "cell_type": "code",
   "execution_count": 2,
   "id": "ac671640",
   "metadata": {},
   "outputs": [],
   "source": [
    "train = pd.read_csv('data/train.csv')\n",
    "test = pd.read_csv('data/test.csv')"
   ]
  },
  {
   "cell_type": "code",
   "execution_count": 3,
   "id": "d9f38c47",
   "metadata": {},
   "outputs": [],
   "source": [
    "drop_list = ['index', 'country', 'TIPI2', 'TIPI3', 'TIPI4', 'TIPI5', 'TIPI7', 'TIPI8', 'TIPI9', 'Q18', 'Q19']\n",
    "\n",
    "train = train.drop(drop_list, axis=1)\n",
    "test = test.drop(drop_list, axis=1)"
   ]
  },
  {
   "cell_type": "code",
   "execution_count": 4,
   "id": "6296e315",
   "metadata": {},
   "outputs": [],
   "source": [
    "train_x = train.drop(['nerdiness'], axis=1)\n",
    "train_y = train['nerdiness']\n"
   ]
  },
  {
   "cell_type": "code",
   "execution_count": 5,
   "id": "df660cc1",
   "metadata": {},
   "outputs": [],
   "source": [
    "for i in train_x:\n",
    "    replace = train_x.loc[:,i].value_counts().index[0]\n",
    "    train_x[i] = train_x[i].fillna(replace)\n",
    "    test[i] = test[i].fillna(replace)"
   ]
  },
  {
   "cell_type": "code",
   "execution_count": 6,
   "id": "9606f648",
   "metadata": {},
   "outputs": [
    {
     "data": {
      "text/plain": [
       "Q1              0\n",
       "Q2              0\n",
       "Q3              0\n",
       "Q4              0\n",
       "Q5              0\n",
       "Q6              0\n",
       "Q7              0\n",
       "Q8              0\n",
       "Q9              0\n",
       "Q10             0\n",
       "Q11             0\n",
       "Q12             0\n",
       "Q13             0\n",
       "Q14             0\n",
       "Q15             0\n",
       "Q16             0\n",
       "Q17             0\n",
       "Q20             0\n",
       "Q21             0\n",
       "Q22             0\n",
       "Q23             0\n",
       "Q24             0\n",
       "Q25             0\n",
       "Q26             0\n",
       "introelapse     0\n",
       "testelapse      0\n",
       "surveyelapse    0\n",
       "TIPI1           0\n",
       "TIPI6           0\n",
       "TIPI10          0\n",
       "VCL1            0\n",
       "VCL2            0\n",
       "VCL3            0\n",
       "VCL4            0\n",
       "VCL5            0\n",
       "VCL6            0\n",
       "VCL7            0\n",
       "VCL8            0\n",
       "VCL9            0\n",
       "VCL10           0\n",
       "VCL11           0\n",
       "VCL12           0\n",
       "VCL13           0\n",
       "VCL14           0\n",
       "VCL15           0\n",
       "VCL16           0\n",
       "education       0\n",
       "urban           0\n",
       "gender          0\n",
       "engnat          0\n",
       "age             0\n",
       "hand            0\n",
       "religion        0\n",
       "orientation     0\n",
       "voted           0\n",
       "married         0\n",
       "familysize      0\n",
       "ASD             0\n",
       "dtype: int64"
      ]
     },
     "execution_count": 6,
     "metadata": {},
     "output_type": "execute_result"
    }
   ],
   "source": [
    "train_x.isnull().sum()"
   ]
  },
  {
   "cell_type": "code",
   "execution_count": 7,
   "id": "4751b290",
   "metadata": {},
   "outputs": [
    {
     "data": {
      "text/plain": [
       "Q1              0\n",
       "Q2              0\n",
       "Q3              0\n",
       "Q4              0\n",
       "Q5              0\n",
       "Q6              0\n",
       "Q7              0\n",
       "Q8              0\n",
       "Q9              0\n",
       "Q10             0\n",
       "Q11             0\n",
       "Q12             0\n",
       "Q13             0\n",
       "Q14             0\n",
       "Q15             0\n",
       "Q16             0\n",
       "Q17             0\n",
       "Q20             0\n",
       "Q21             0\n",
       "Q22             0\n",
       "Q23             0\n",
       "Q24             0\n",
       "Q25             0\n",
       "Q26             0\n",
       "introelapse     0\n",
       "testelapse      0\n",
       "surveyelapse    0\n",
       "TIPI1           0\n",
       "TIPI6           0\n",
       "TIPI10          0\n",
       "VCL1            0\n",
       "VCL2            0\n",
       "VCL3            0\n",
       "VCL4            0\n",
       "VCL5            0\n",
       "VCL6            0\n",
       "VCL7            0\n",
       "VCL8            0\n",
       "VCL9            0\n",
       "VCL10           0\n",
       "VCL11           0\n",
       "VCL12           0\n",
       "VCL13           0\n",
       "VCL14           0\n",
       "VCL15           0\n",
       "VCL16           0\n",
       "education       0\n",
       "urban           0\n",
       "gender          0\n",
       "engnat          0\n",
       "age             0\n",
       "hand            0\n",
       "religion        0\n",
       "orientation     0\n",
       "voted           0\n",
       "married         0\n",
       "familysize      0\n",
       "ASD             0\n",
       "dtype: int64"
      ]
     },
     "execution_count": 7,
     "metadata": {},
     "output_type": "execute_result"
    }
   ],
   "source": [
    "test.isnull().sum()"
   ]
  },
  {
   "cell_type": "code",
   "execution_count": 8,
   "id": "d2e78f6a",
   "metadata": {},
   "outputs": [],
   "source": [
    "from lightgbm import LGBMClassifier\n",
    "lgbm_clf = LGBMClassifier(n_estimators=10000)\n",
    "lgbm_clf.fit(train_x, train_y)\n",
    "\n",
    "lgbm_pred = lgbm_clf.predict(test)\n"
   ]
  },
  {
   "cell_type": "code",
   "execution_count": 9,
   "id": "74d8728a",
   "metadata": {},
   "outputs": [],
   "source": [
    "submission = pd.read_csv('data/sample_submission.csv')\n",
    "\n",
    "submission['nerdiness'] = lgbm_pred"
   ]
  },
  {
   "cell_type": "code",
   "execution_count": 10,
   "id": "74e09f48",
   "metadata": {},
   "outputs": [
    {
     "data": {
      "text/html": [
       "<div>\n",
       "<style scoped>\n",
       "    .dataframe tbody tr th:only-of-type {\n",
       "        vertical-align: middle;\n",
       "    }\n",
       "\n",
       "    .dataframe tbody tr th {\n",
       "        vertical-align: top;\n",
       "    }\n",
       "\n",
       "    .dataframe thead th {\n",
       "        text-align: right;\n",
       "    }\n",
       "</style>\n",
       "<table border=\"1\" class=\"dataframe\">\n",
       "  <thead>\n",
       "    <tr style=\"text-align: right;\">\n",
       "      <th></th>\n",
       "      <th>index</th>\n",
       "      <th>nerdiness</th>\n",
       "    </tr>\n",
       "  </thead>\n",
       "  <tbody>\n",
       "    <tr>\n",
       "      <th>0</th>\n",
       "      <td>0</td>\n",
       "      <td>0</td>\n",
       "    </tr>\n",
       "    <tr>\n",
       "      <th>1</th>\n",
       "      <td>1</td>\n",
       "      <td>1</td>\n",
       "    </tr>\n",
       "    <tr>\n",
       "      <th>2</th>\n",
       "      <td>2</td>\n",
       "      <td>1</td>\n",
       "    </tr>\n",
       "    <tr>\n",
       "      <th>3</th>\n",
       "      <td>3</td>\n",
       "      <td>1</td>\n",
       "    </tr>\n",
       "    <tr>\n",
       "      <th>4</th>\n",
       "      <td>4</td>\n",
       "      <td>1</td>\n",
       "    </tr>\n",
       "    <tr>\n",
       "      <th>...</th>\n",
       "      <td>...</td>\n",
       "      <td>...</td>\n",
       "    </tr>\n",
       "    <tr>\n",
       "      <th>35447</th>\n",
       "      <td>35447</td>\n",
       "      <td>1</td>\n",
       "    </tr>\n",
       "    <tr>\n",
       "      <th>35448</th>\n",
       "      <td>35448</td>\n",
       "      <td>1</td>\n",
       "    </tr>\n",
       "    <tr>\n",
       "      <th>35449</th>\n",
       "      <td>35449</td>\n",
       "      <td>1</td>\n",
       "    </tr>\n",
       "    <tr>\n",
       "      <th>35450</th>\n",
       "      <td>35450</td>\n",
       "      <td>0</td>\n",
       "    </tr>\n",
       "    <tr>\n",
       "      <th>35451</th>\n",
       "      <td>35451</td>\n",
       "      <td>1</td>\n",
       "    </tr>\n",
       "  </tbody>\n",
       "</table>\n",
       "<p>35452 rows × 2 columns</p>\n",
       "</div>"
      ],
      "text/plain": [
       "       index  nerdiness\n",
       "0          0          0\n",
       "1          1          1\n",
       "2          2          1\n",
       "3          3          1\n",
       "4          4          1\n",
       "...      ...        ...\n",
       "35447  35447          1\n",
       "35448  35448          1\n",
       "35449  35449          1\n",
       "35450  35450          0\n",
       "35451  35451          1\n",
       "\n",
       "[35452 rows x 2 columns]"
      ]
     },
     "execution_count": 10,
     "metadata": {},
     "output_type": "execute_result"
    }
   ],
   "source": [
    "submission"
   ]
  },
  {
   "cell_type": "code",
   "execution_count": 11,
   "id": "d2b12699",
   "metadata": {},
   "outputs": [],
   "source": [
    "submission.to_csv('qedsq.csv', index=False)"
   ]
  },
  {
   "cell_type": "code",
   "execution_count": null,
   "id": "4172b7f7",
   "metadata": {},
   "outputs": [],
   "source": []
  }
 ],
 "metadata": {
  "kernelspec": {
   "display_name": "Python 3 (ipykernel)",
   "language": "python",
   "name": "python3"
  },
  "language_info": {
   "codemirror_mode": {
    "name": "ipython",
    "version": 3
   },
   "file_extension": ".py",
   "mimetype": "text/x-python",
   "name": "python",
   "nbconvert_exporter": "python",
   "pygments_lexer": "ipython3",
   "version": "3.9.7"
  }
 },
 "nbformat": 4,
 "nbformat_minor": 5
}
